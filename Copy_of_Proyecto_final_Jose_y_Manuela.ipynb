{
  "nbformat": 4,
  "nbformat_minor": 0,
  "metadata": {
    "colab": {
      "provenance": []
    },
    "kernelspec": {
      "name": "python3",
      "display_name": "Python 3"
    },
    "language_info": {
      "name": "python"
    }
  },
  "cells": [
    {
      "cell_type": "markdown",
      "source": [
        "0. Cargar librerías"
      ],
      "metadata": {
        "id": "yTuGsF0DFdsF"
      }
    },
    {
      "cell_type": "code",
      "source": [
        "from google.colab import drive\n",
        "drive.mount(\"/content/drive\")\n",
        "\n",
        "import numpy as np\n",
        "import pandas as pd\n",
        "import matplotlib.pyplot as plt\n",
        "\n",
        "#Google minería de datos\n",
        "from sklearn.neighbors import KNeighborsClassifier\n",
        "from sklearn.cluster import KMeans\n",
        "from sklearn import metrics\n",
        "from sklearn.metrics import roc_curve\n",
        "#Métricas para evaluar los modelos\n",
        "from sklearn.metrics import confusion_matrix\n",
        "#Graficador para hacer dashboards\n",
        "import seaborn as sns\n",
        "\n",
        "import matplotlib.pyplot as plt\n",
        "import seaborn as sns\n",
        "\n",
        "from keras.models import Sequential\n",
        "from keras.layers import Dense\n",
        "import tensorflow as tf"
      ],
      "metadata": {
        "colab": {
          "base_uri": "https://localhost:8080/",
          "height": 356
        },
        "id": "La-VjganFgSV",
        "outputId": "80309ff3-210c-4bcb-98c2-65edd8c7b775"
      },
      "execution_count": 3,
      "outputs": [
        {
          "output_type": "error",
          "ename": "ValueError",
          "evalue": "mount failed",
          "traceback": [
            "\u001b[0;31m---------------------------------------------------------------------------\u001b[0m",
            "\u001b[0;31mValueError\u001b[0m                                Traceback (most recent call last)",
            "\u001b[0;32m<ipython-input-3-f41a68c1105f>\u001b[0m in \u001b[0;36m<cell line: 2>\u001b[0;34m()\u001b[0m\n\u001b[1;32m      1\u001b[0m \u001b[0;32mfrom\u001b[0m \u001b[0mgoogle\u001b[0m\u001b[0;34m.\u001b[0m\u001b[0mcolab\u001b[0m \u001b[0;32mimport\u001b[0m \u001b[0mdrive\u001b[0m\u001b[0;34m\u001b[0m\u001b[0;34m\u001b[0m\u001b[0m\n\u001b[0;32m----> 2\u001b[0;31m \u001b[0mdrive\u001b[0m\u001b[0;34m.\u001b[0m\u001b[0mmount\u001b[0m\u001b[0;34m(\u001b[0m\u001b[0;34m\"/content/drive\"\u001b[0m\u001b[0;34m)\u001b[0m\u001b[0;34m\u001b[0m\u001b[0;34m\u001b[0m\u001b[0m\n\u001b[0m\u001b[1;32m      3\u001b[0m \u001b[0;34m\u001b[0m\u001b[0m\n\u001b[1;32m      4\u001b[0m \u001b[0;32mimport\u001b[0m \u001b[0mnumpy\u001b[0m \u001b[0;32mas\u001b[0m \u001b[0mnp\u001b[0m\u001b[0;34m\u001b[0m\u001b[0;34m\u001b[0m\u001b[0m\n\u001b[1;32m      5\u001b[0m \u001b[0;32mimport\u001b[0m \u001b[0mpandas\u001b[0m \u001b[0;32mas\u001b[0m \u001b[0mpd\u001b[0m\u001b[0;34m\u001b[0m\u001b[0;34m\u001b[0m\u001b[0m\n",
            "\u001b[0;32m/usr/local/lib/python3.10/dist-packages/google/colab/drive.py\u001b[0m in \u001b[0;36mmount\u001b[0;34m(mountpoint, force_remount, timeout_ms, readonly)\u001b[0m\n\u001b[1;32m     98\u001b[0m \u001b[0;32mdef\u001b[0m \u001b[0mmount\u001b[0m\u001b[0;34m(\u001b[0m\u001b[0mmountpoint\u001b[0m\u001b[0;34m,\u001b[0m \u001b[0mforce_remount\u001b[0m\u001b[0;34m=\u001b[0m\u001b[0;32mFalse\u001b[0m\u001b[0;34m,\u001b[0m \u001b[0mtimeout_ms\u001b[0m\u001b[0;34m=\u001b[0m\u001b[0;36m120000\u001b[0m\u001b[0;34m,\u001b[0m \u001b[0mreadonly\u001b[0m\u001b[0;34m=\u001b[0m\u001b[0;32mFalse\u001b[0m\u001b[0;34m)\u001b[0m\u001b[0;34m:\u001b[0m\u001b[0;34m\u001b[0m\u001b[0;34m\u001b[0m\u001b[0m\n\u001b[1;32m     99\u001b[0m   \u001b[0;34m\"\"\"Mount your Google Drive at the specified mountpoint path.\"\"\"\u001b[0m\u001b[0;34m\u001b[0m\u001b[0;34m\u001b[0m\u001b[0m\n\u001b[0;32m--> 100\u001b[0;31m   return _mount(\n\u001b[0m\u001b[1;32m    101\u001b[0m       \u001b[0mmountpoint\u001b[0m\u001b[0;34m,\u001b[0m\u001b[0;34m\u001b[0m\u001b[0;34m\u001b[0m\u001b[0m\n\u001b[1;32m    102\u001b[0m       \u001b[0mforce_remount\u001b[0m\u001b[0;34m=\u001b[0m\u001b[0mforce_remount\u001b[0m\u001b[0;34m,\u001b[0m\u001b[0;34m\u001b[0m\u001b[0;34m\u001b[0m\u001b[0m\n",
            "\u001b[0;32m/usr/local/lib/python3.10/dist-packages/google/colab/drive.py\u001b[0m in \u001b[0;36m_mount\u001b[0;34m(mountpoint, force_remount, timeout_ms, ephemeral, readonly)\u001b[0m\n\u001b[1;32m    280\u001b[0m             \u001b[0;34m'https://research.google.com/colaboratory/faq.html#drive-timeout'\u001b[0m\u001b[0;34m\u001b[0m\u001b[0;34m\u001b[0m\u001b[0m\n\u001b[1;32m    281\u001b[0m         )\n\u001b[0;32m--> 282\u001b[0;31m       \u001b[0;32mraise\u001b[0m \u001b[0mValueError\u001b[0m\u001b[0;34m(\u001b[0m\u001b[0;34m'mount failed'\u001b[0m \u001b[0;34m+\u001b[0m \u001b[0mextra_reason\u001b[0m\u001b[0;34m)\u001b[0m\u001b[0;34m\u001b[0m\u001b[0;34m\u001b[0m\u001b[0m\n\u001b[0m\u001b[1;32m    283\u001b[0m     \u001b[0;32melif\u001b[0m \u001b[0mcase\u001b[0m \u001b[0;34m==\u001b[0m \u001b[0;36m4\u001b[0m\u001b[0;34m:\u001b[0m\u001b[0;34m\u001b[0m\u001b[0;34m\u001b[0m\u001b[0m\n\u001b[1;32m    284\u001b[0m       \u001b[0;31m# Terminate the DriveFS binary before killing bash.\u001b[0m\u001b[0;34m\u001b[0m\u001b[0;34m\u001b[0m\u001b[0m\n",
            "\u001b[0;31mValueError\u001b[0m: mount failed"
          ]
        }
      ]
    },
    {
      "cell_type": "markdown",
      "source": [
        "**KNN COMO MODELO DE CLASIFICACIÓN Y AGRUPAMIENTO**"
      ],
      "metadata": {
        "id": "iaP00ReLF_Ac"
      }
    },
    {
      "cell_type": "code",
      "source": [
        "XDB=pd.read_excel('/content/drive/MyDrive/AnaliticaNegocios(01-2024)/salaries-_2.xlsx', sheet_name=1)\n",
        "XDB.head()\n",
        "XDB=XDB[['work_year','salary','job_title', 'salary_in_usd', 'company_size']]\n",
        "XDB=XDB.dropna()\n",
        "XDB.corr()\n",
        "dfcorrel=pd.DataFrame(XDB.corr())\n",
        "dfcorrel.to_excel('InformeCorrel.xlsx')"
      ],
      "metadata": {
        "id": "9RuEANwCF0fH"
      },
      "execution_count": null,
      "outputs": []
    },
    {
      "cell_type": "code",
      "source": [
        "#creamos el dashboard\n",
        "sns.pairplot(XDB, hue='job_title', size=4, vars=['work_year','salary', 'salary_in_usd','company_size'])"
      ],
      "metadata": {
        "id": "jbNnSilqF-x1"
      },
      "execution_count": null,
      "outputs": []
    },
    {
      "cell_type": "code",
      "source": [
        "#datos de entrada - datos de salida\n",
        "XD=np.array(XDB[['work_year','salary', 'salary_in_usd','company_size']])\n",
        "yd=np.array(XDB[['job_title']])\n",
        "\n",
        "mknn=KNeighborsClassifier(n_neighbors=10)\n",
        "mknn.fit(XD,yd)\n",
        "ydp=mknn.predict(XD)\n",
        "\n",
        "print(\"La precision en el pronostico es:\", metrics.accuracy_score(yd,ydp))"
      ],
      "metadata": {
        "id": "rxpavCxcGWIR"
      },
      "execution_count": null,
      "outputs": []
    },
    {
      "cell_type": "code",
      "source": [
        "#Matriz de confusión\n",
        "cm=confusion_matrix(yd,ydp)\n",
        "print(cm)\n",
        "df=pd.DataFrame(cm)\n",
        "df.to_excel('MatrizConfusion.xlsx')"
      ],
      "metadata": {
        "id": "N0MZo2JCGdxG"
      },
      "execution_count": null,
      "outputs": []
    },
    {
      "cell_type": "code",
      "source": [
        "#Metricas sobre el comportamiento en general de modelo\n",
        "VP=cm[0,0];FN=cm[0,1]\n",
        "FP=cm[1,0];VN=cm[1,1]\n",
        "print(\"La exactitud es:\", (VP+VN)/(VP+FN+FP+VN))\n",
        "#Comportamiento tasa de error\n",
        "print(\"La Tasa de Error es:\", (FP+FN)/(VP+FN+FP+VN))\n",
        "#COEFICIENTE DE SENSIBILIDAD DEL MODELO\n",
        "print(\"El coeficiente de sensibilidad\",VP/(VP+FN))\n",
        "#COEFICIENTE DE ESPECIFICIDAD\n",
        "print(\"El coeficiente de especificidad\", VN/(FP+VN))\n",
        "#LA CALIDAD DE LOS DATOS PARA EL PRONOSTICO POSITIVO ES\n",
        "print(\"Pronostico Positivo:\", VP/(VP+FP))\n",
        "#LA CALIDAD DE LOS DATOS PARA EL PRONOSTICO NEGATIVO ES\n",
        "print(\"Pronostico Negativo\",VN/(FN+VN))"
      ],
      "metadata": {
        "id": "uy3-yNz3Gl1U"
      },
      "execution_count": null,
      "outputs": []
    },
    {
      "cell_type": "markdown",
      "source": [
        "- Evaluamos a un individuo"
      ],
      "metadata": {
        "id": "lUESIEsvHsAG"
      }
    },
    {
      "cell_type": "code",
      "source": [
        "XDi=np.array([(2024,12000,87664,2)])\n",
        "ydi=mknn.predict(XDi)\n",
        "print(\"La decision frente al titulo del trabajo es:\", ydi)\n",
        "\n",
        "plt.scatter(XD[:,3],XD[:,1],c=yd, s=50, cmap='inferno')  #c es como se colocan los datos, s tamaño de punto, cmap el color\n",
        "plt.scatter(XDi[:,3],XDi[:,1],marker='o',s=500,facecolor='green')\n",
        "plt.title('Company Size vs Salary')\n",
        "plt.show()"
      ],
      "metadata": {
        "id": "NYXOkzUZIOxV"
      },
      "execution_count": null,
      "outputs": []
    },
    {
      "cell_type": "markdown",
      "source": [
        "- Madaline de pronostico"
      ],
      "metadata": {
        "id": "7aSqBfWvLcT9"
      }
    },
    {
      "cell_type": "code",
      "source": [
        "yd2=np.array(XDB[['job_title']])\n",
        "yd2c=(yd2-np.mean(yd2))/np.std(yd2) #hacemos el centramiento\n",
        "yd2p=1/(1+np.exp(-yd2c))#esta es la probabilidad de un score alto\n",
        "XDn=np.array(XDB[['work_year','salary', 'salary_in_usd','company_size']])\n",
        "XDn=XD/np.max(XD,axis=0) #normalizamos los datos\n",
        "NE=4\n",
        "model=Sequential()\n",
        "model.add(Dense(10,activation='linear',use_bias=False,input_dim=NE))\n",
        "model.add(Dense(1,activation='sigmoid'))\n",
        "model.compile(optimizer='adam',loss='mse')\n",
        "history=model.fit(XDn,yd2p,epochs=250,batch_size=581)\n",
        "ys=model.predict(XDn)\n",
        "\n",
        "#grafico de dispersion\n",
        "plt.figure()\n",
        "plt.scatter(yd2p,ys)\n",
        "plt.show\n",
        "#matriz de correlacion\n",
        "df2=pd.DataFrame(np.column_stack((yd2p,ys)))\n",
        "df2.corr()\n",
        "print(\"la correlacion es:\",df.corr())\n",
        "#efectos independientes\n",
        "W2=model.layers[0].get_weights()[0]\n",
        "C2=model.layers[1].get_weights()[0]\n",
        "np.dot(W2,C2)\n",
        "print(\"los efectos independientes son:\\n\",np.dot(W2,C2))\n",
        "\n",
        "#comoson las distribuciones de los datos\n",
        "plt.figure()\n",
        "sns.displot((yd2p.flatten(),ys.flatten()),kde=True)\n",
        "plt.show()\n",
        "\n",
        "#discrepancia entre medias\n",
        "dscm=(np.mean(yd2p)-np.mean(ys)/np.mean(yd2p))\n",
        "print(\"la discrepancia entre las medias es:\",dscm) #si da negativo es que esta sobreentrando (estan por encima de los originales)\n",
        "\n",
        "#discrepancia entre desviaciones\n",
        "dscv=((np.std(yd2p)-np.std(ys))/np.std(yd2p))\n",
        "print(\"la discrepancia entre dispersiones es:\", dscv)\n",
        "\n",
        "#la grafica de los datos de referencia es:\n",
        "plt.figure()\n",
        "plt.plot(yd2p[0:100,],'r',ys[0:100,],'b')\n",
        "plt.show()"
      ],
      "metadata": {
        "id": "Yd5MQO9ELSPF"
      },
      "execution_count": null,
      "outputs": []
    },
    {
      "cell_type": "markdown",
      "source": [
        "Probabilidad de que un individuo trabaje como head of data"
      ],
      "metadata": {
        "id": "ucj0Fo2Fpwfh"
      }
    },
    {
      "cell_type": "code",
      "source": [
        "#Individuo: (2024,12000,87664,2)\n",
        "XDi1=np.array([2024, 12000, 87664])\n",
        "#Se normalizan las variables\n",
        "XDi1n=XDi1/np.max(XD,axis=0)\n",
        "print(\"Datos normalizados del individuo 1 \\n\",XDi1n)"
      ],
      "metadata": {
        "id": "v-foTUo_qoKY",
        "collapsed": true
      },
      "execution_count": null,
      "outputs": []
    },
    {
      "cell_type": "code",
      "source": [
        "yi1=((0.90909091*-2.023058)+(0.6*-0.89059305)+(0.4*-1.6146948)+(0.11764706*-1.2491426)+(0.13333333*-1.7374382)+(0.8125*-0.11855859)+(0.49333333*10.533834))\n",
        "yp1=1/(1+np.exp(-yi1))\n",
        "print(\"La probabilidad del primer individuo para hacer parte de los ingresos altos es \\n\",yp1*100)"
      ],
      "metadata": {
        "id": "mz3r6qEIr5rc"
      },
      "execution_count": null,
      "outputs": []
    }
  ]
}